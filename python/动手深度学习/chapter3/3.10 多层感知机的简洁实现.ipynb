{
 "nbformat": 4,
 "nbformat_minor": 2,
 "metadata": {
  "language_info": {
   "name": "python",
   "codemirror_mode": {
    "name": "ipython",
    "version": 3
   },
   "version": "3.6.8"
  },
  "orig_nbformat": 2,
  "file_extension": ".py",
  "mimetype": "text/x-python",
  "name": "python",
  "npconvert_exporter": "python",
  "pygments_lexer": "ipython3",
  "version": 3
 },
 "cells": [
  {
   "cell_type": "code",
   "execution_count": 2,
   "metadata": {},
   "outputs": [],
   "source": [
    "import torch\n",
    "from torch import nn\n",
    "from torch.nn import init\n",
    "import numpy as np\n",
    "import sys\n",
    "sys.path.append(\"..\") \n",
    "import d2lzh_pytorch.utils as d2l"
   ]
  },
  {
   "cell_type": "code",
   "execution_count": 6,
   "metadata": {},
   "outputs": [
    {
     "name": "stdout",
     "output_type": "stream",
     "text": "multiNet(\n  (linear1): Linear(in_features=784, out_features=256, bias=True)\n  (linear2): Linear(in_features=256, out_features=10, bias=True)\n)\n"
    }
   ],
   "source": [
    "num_inputs, num_outputs, num_hiddens = 784, 10, 256\n",
    "\n",
    "class multiNet(nn.Module):\n",
    "    def __init__(self, num_inputs, num_hiddens,  num_outputs):\n",
    "        super(multiNet, self).__init__()\n",
    "\n",
    "        self.linear1 = nn.Linear(num_inputs, num_hiddens)\n",
    "        self.linear2 = nn.Linear(num_hiddens, num_outputs)\n",
    "\n",
    "    def forward(self, x):\n",
    "        a1 = self.linear1(x.view(x.shape[0], -1))\n",
    "        z1 = torch.relu(a1)\n",
    "        y = self.linear2(z1)\n",
    "        return y\n",
    "\n",
    "net = multiNet(num_inputs, num_hiddens, num_outputs)\n",
    "\n",
    "for params in net.parameters():\n",
    "    init.normal_(params, mean=0, std=0.01)\n",
    "    \n",
    "print(net)"
   ]
  },
  {
   "cell_type": "code",
   "execution_count": 9,
   "metadata": {},
   "outputs": [
    {
     "name": "stdout",
     "output_type": "stream",
     "text": "epoch 1, loss 0.0031, train acc 0.699, test acc 0.722\nepoch 2, loss 0.0019, train acc 0.819, test acc 0.827\nepoch 3, loss 0.0017, train acc 0.844, test acc 0.800\nepoch 4, loss 0.0015, train acc 0.855, test acc 0.802\nepoch 5, loss 0.0014, train acc 0.864, test acc 0.840\n"
    }
   ],
   "source": [
    "batch_size = 256\n",
    "train_iter, test_iter = d2l.load_data_fashion_mnist(batch_size)\n",
    "\n",
    "loss = torch.nn.CrossEntropyLoss()\n",
    "optimizer =  torch.optim.SGD(net.parameters(), lr = 0.5)\n",
    "num_epochs = 5\n",
    "\n",
    "d2l.train_ch3(net, train_iter, test_iter, loss, num_epochs, batch_size, None, None, optimizer)"
   ]
  },
  {
   "cell_type": "code",
   "execution_count": null,
   "metadata": {},
   "outputs": [],
   "source": []
  }
 ]
}