{
 "nbformat": 4,
 "nbformat_minor": 2,
 "metadata": {
  "language_info": {
   "name": "python",
   "codemirror_mode": {
    "name": "ipython",
    "version": 3
   },
   "version": "3.6.8"
  },
  "orig_nbformat": 2,
  "file_extension": ".py",
  "mimetype": "text/x-python",
  "name": "python",
  "npconvert_exporter": "python",
  "pygments_lexer": "ipython3",
  "version": 3
 },
 "cells": [
  {
   "source": [
    "import torch\n",
    "from torch import nn\n",
    "import numpy as np\n",
    "import sys\n",
    "sys.path.append(\"..\") \n",
    "import d2lzh_pytorch.utils as d2l"
   ],
   "cell_type": "code",
   "outputs": [],
   "metadata": {},
   "execution_count": 1
  },
  {
   "source": [
    "batch_size = 256\n",
    "train_iter, test_iter = d2l.load_data_fashion_mnist(batch_size)"
   ],
   "cell_type": "code",
   "outputs": [],
   "metadata": {},
   "execution_count": 2
  },
  {
   "source": [
    "num_inputs, num_outputs, num_hiddens = 784, 10, 256\n",
    "\n",
    "W1 = torch.normal(mean = 0, std = 0.01, size = (num_inputs, num_hiddens))\n",
    "b1 = torch.zeros(num_hiddens)\n",
    "W2 = torch.normal(mean = 0, std = 0.01, size = (num_hiddens, num_outputs))\n",
    "b2 = torch.zeros(num_outputs)\n",
    "params = [W1, b1, W2, b2]\n",
    "\n",
    "for param in params:\n",
    "    param.requires_grad_(requires_grad = True)\n",
    ""
   ],
   "cell_type": "code",
   "outputs": [],
   "metadata": {},
   "execution_count": 3
  },
  {
   "source": [
    "def relu(X):\n",
    "    return torch.max(input = X, other = torch.tensor(0.0))"
   ],
   "cell_type": "code",
   "outputs": [],
   "metadata": {},
   "execution_count": 4
  },
  {
   "source": [
    "loss = nn.CrossEntropyLoss()\n",
    "\n",
    "\n",
    "def net(X):\n",
    "    X = X.view(-1, num_inputs)\n",
    "    H = relu(X.mm(W1) + b1)\n",
    "    return H.mm(W2) + b2"
   ],
   "cell_type": "code",
   "outputs": [],
   "metadata": {},
   "execution_count": 5
  },
  {
   "source": [
    "num_epochs, lr = 5, 100\n",
    "d2l.train_ch3(net, train_iter, test_iter, loss, num_epochs, batch_size,\n",
    "              params, lr)"
   ],
   "cell_type": "code",
   "outputs": [
    {
     "output_type": "stream",
     "name": "stdout",
     "text": "epoch 1, loss 0.0029, train acc 0.728, test acc 0.780\nepoch 2, loss 0.0019, train acc 0.825, test acc 0.821\nepoch 3, loss 0.0017, train acc 0.842, test acc 0.825\nepoch 4, loss 0.0015, train acc 0.859, test acc 0.840\nepoch 5, loss 0.0014, train acc 0.865, test acc 0.810\n"
    }
   ],
   "metadata": {},
   "execution_count": 7
  },
  {
   "cell_type": "code",
   "execution_count": null,
   "metadata": {},
   "outputs": [],
   "source": []
  }
 ]
}