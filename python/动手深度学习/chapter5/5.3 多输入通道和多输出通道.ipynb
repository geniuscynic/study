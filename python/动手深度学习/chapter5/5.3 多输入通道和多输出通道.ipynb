{
 "nbformat": 4,
 "nbformat_minor": 2,
 "metadata": {
  "language_info": {
   "name": "python",
   "codemirror_mode": {
    "name": "ipython",
    "version": 3
   },
   "version": "3.6.8"
  },
  "orig_nbformat": 2,
  "file_extension": ".py",
  "mimetype": "text/x-python",
  "name": "python",
  "npconvert_exporter": "python",
  "pygments_lexer": "ipython3",
  "version": 3
 },
 "cells": [
  {
   "cell_type": "code",
   "execution_count": 1,
   "metadata": {},
   "outputs": [],
   "source": [
    "import torch\n",
    "from torch import nn\n",
    "import sys\n",
    "sys.path.append(\"..\") \n",
    "import d2lzh_pytorch.utils as d2l"
   ]
  },
  {
   "cell_type": "code",
   "execution_count": 2,
   "metadata": {},
   "outputs": [
    {
     "name": "stdout",
     "output_type": "stream",
     "text": "torch.Size([2, 2, 2])\n"
    },
    {
     "ename": "NameError",
     "evalue": "name 'corr2d_multi_in2' is not defined",
     "output_type": "error",
     "traceback": [
      "\u001b[1;31m---------------------------------------------------------------------------\u001b[0m",
      "\u001b[1;31mNameError\u001b[0m                                 Traceback (most recent call last)",
      "\u001b[1;32m<ipython-input-2-832da14e6cec>\u001b[0m in \u001b[0;36m<module>\u001b[1;34m()\u001b[0m\n\u001b[0;32m     26\u001b[0m \u001b[0mprint\u001b[0m\u001b[1;33m(\u001b[0m\u001b[0mK\u001b[0m\u001b[1;33m.\u001b[0m\u001b[0mshape\u001b[0m\u001b[1;33m)\u001b[0m\u001b[1;33m\u001b[0m\u001b[1;33m\u001b[0m\u001b[0m\n\u001b[0;32m     27\u001b[0m \u001b[1;31m#print(X[1, :, :])\u001b[0m\u001b[1;33m\u001b[0m\u001b[1;33m\u001b[0m\u001b[1;33m\u001b[0m\u001b[0m\n\u001b[1;32m---> 28\u001b[1;33m \u001b[0mcorr2d_multi_in2\u001b[0m\u001b[1;33m(\u001b[0m\u001b[0mX\u001b[0m\u001b[1;33m,\u001b[0m \u001b[0mK\u001b[0m\u001b[1;33m)\u001b[0m\u001b[1;33m.\u001b[0m\u001b[0mshape\u001b[0m\u001b[1;33m\u001b[0m\u001b[1;33m\u001b[0m\u001b[0m\n\u001b[0m",
      "\u001b[1;31mNameError\u001b[0m: name 'corr2d_multi_in2' is not defined"
     ]
    }
   ],
   "source": [
    "X = torch.tensor([\n",
    "    [\n",
    "        [0, 1, 2], \n",
    "        [3, 4, 5], \n",
    "        [6, 7, 8]\n",
    "    ],\n",
    "    [\n",
    "        [1, 2, 3], \n",
    "        [4, 5, 6], \n",
    "        [7, 8, 9]\n",
    "    ]\n",
    "])\n",
    "\n",
    "K = torch.tensor([\n",
    "    [\n",
    "        [0, 1],\n",
    "        [2, 3]\n",
    "    ], \n",
    "    [\n",
    "        [1, 2], \n",
    "        [3, 4]\n",
    "    ]\n",
    "])\n",
    "\n",
    "#print(X.shape)\n",
    "print(K.shape)\n",
    "#print(X[1, :, :])\n",
    "corr2d_multi_in2(X, K).shape"
   ]
  },
  {
   "cell_type": "code",
   "execution_count": 0,
   "metadata": {},
   "outputs": [],
   "source": [
    "def corr2d_multi_in(X, K):\n",
    "    res = d2l.corr2d(X[0,:,:], K[0,:,:])\n",
    "    for i in range(1, X.shape[0]):\n",
    "        res += d2l.corr2d(X[i, :, :], K[i, :, :])\n",
    "\n",
    "    return res\n",
    "\n",
    "def corr2d_multi_in2(X, K):\n",
    "    res = 0\n",
    "    for i in range(0, X.shape[0]):\n",
    "        res += d2l.corr2d(X[i, :, :], K[i, :, :])\n",
    "\n",
    "    return res"
   ]
  },
  {
   "cell_type": "code",
   "execution_count": 0,
   "metadata": {},
   "outputs": [],
   "source": [
    "def corr2d_multi_in_out(X, K):\n",
    "    # 对K的第0维遍历，每次同输入X做互相关计算。所有结果使用stack函数合并在一起\n",
    "    #for k in K:\n",
    "        #print(corr2d_multi_in(X, k)) \n",
    "    return torch.stack([corr2d_multi_in(X, k) for k in K])"
   ]
  },
  {
   "cell_type": "code",
   "execution_count": 0,
   "metadata": {},
   "outputs": [],
   "source": [
    "K = torch.stack([K, K + 1, K + 2])\n",
    " # torch.Size([3, 2, 2, 2])\n",
    "#Y = torch.Tensor([[[1, 2], [3, 4]]])\n",
    "#Y = torch.stack([Y, Y + 1, Y + 2])\n"
   ]
  },
  {
   "cell_type": "code",
   "execution_count": 0,
   "metadata": {},
   "outputs": [],
   "source": [
    "corr2d_multi_in_out(X, K).shape"
   ]
  },
  {
   "cell_type": "code",
   "execution_count": 14,
   "metadata": {},
   "outputs": [],
   "source": [
    "def corr2d_multi_in_out_1x1(X, K):\n",
    "    c_i, h, w = X.shape\n",
    "    c_o = K.shape[0]\n",
    "    X = X.view(c_i, h * w)\n",
    "    K = K.view(c_o, c_i)\n",
    "    Y = torch.mm(K, X)\n",
    "    print(X.shape, K.shape)\n",
    "    return Y.view(c_o, h, w)"
   ]
  },
  {
   "cell_type": "code",
   "execution_count": 16,
   "metadata": {},
   "outputs": [
    {
     "name": "stdout",
     "output_type": "stream",
     "text": "torch.Size([3, 9]) torch.Size([2, 3])\n"
    },
    {
     "data": {
      "text/plain": "(tensor([[[[0.5832]],\n \n          [[0.2117]],\n \n          [[0.1358]]],\n \n \n         [[[0.9821]],\n \n          [[0.0816]],\n \n          [[0.7636]]]]), tensor([[[0.6862, 0.3732, 0.6387],\n          [0.6051, 0.6647, 0.6927],\n          [0.2329, 0.4633, 0.4198]],\n \n         [[1.2003, 0.6412, 0.9357],\n          [1.0925, 1.3216, 1.0200],\n          [0.8868, 1.1328, 0.7769]]]), tensor([[[0.6862, 0.3732, 0.6387],\n          [0.6051, 0.6647, 0.6927],\n          [0.2329, 0.4633, 0.4198]],\n \n         [[1.2003, 0.6412, 0.9357],\n          [1.0925, 1.3216, 1.0200],\n          [0.8868, 1.1328, 0.7769]]]))"
     },
     "execution_count": 16,
     "metadata": {},
     "output_type": "execute_result"
    }
   ],
   "source": [
    "X = torch.rand(3, 3, 3)\n",
    "K = torch.rand(2, 3, 1, 1)\n",
    "\n",
    "Y1 = corr2d_multi_in_out_1x1(X, K)\n",
    "Y2 = corr2d_multi_in_out(X, K)\n",
    "\n",
    "K, Y1, Y2"
   ]
  },
  {
   "cell_type": "code",
   "execution_count": null,
   "metadata": {},
   "outputs": [],
   "source": []
  }
 ]
}